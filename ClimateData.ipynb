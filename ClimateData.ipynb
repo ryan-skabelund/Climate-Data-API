{
 "cells": [
  {
   "cell_type": "code",
   "execution_count": null,
   "id": "ac81db2b-85f1-4dbd-9744-691ee84fafde",
   "metadata": {},
   "outputs": [],
   "source": [
    "import requests\n",
    "import json\n",
    "import pandas as pd\n",
    "import datetime\n",
    "\n",
    "response = requests.get(\"https://climatedataapi.azurewebsites.net/api/data\")\n",
    "df = pd.DataFrame(json.loads(response.content.decode(\"utf-8\")))\n",
    "\n",
    "df[\"datetime\"] = pd.to_datetime(df.ti)\n",
    "df[\"te_F\"] = df.te * 9/5 + 32\n",
    "\n",
    "print(\"Room Climate Data\")\n",
    "display(df)\n",
    "\n",
    "\n",
    "timezone = datetime.timedelta(0,0,0,0,0,-7)\n",
    "intial_date = datetime.datetime(2022, 2, 6, 23) - timezone\n",
    "\n",
    "response = requests.get(f\"https://api.weather.gov/stations/KIWA/observations?start={intial_date.isoformat()}Z\")\n",
    "raw_weather_data = json.loads(response.content.decode(\"utf-8\"))\n",
    "\n",
    "weather_data = []\n",
    "for raw_data in raw_weather_data[\"features\"]:\n",
    "    temperature = raw_data[\"properties\"][\"temperature\"][\"value\"]\n",
    "    humidity = raw_data[\"properties\"][\"relativeHumidity\"][\"value\"]\n",
    "    timestamp = raw_data[\"properties\"][\"timestamp\"]\n",
    "    if (temperature is None) or (humidity is None) or (timestamp is None):\n",
    "        continue\n",
    "    weather_data.append({\n",
    "        \"timestamp\": pd.to_datetime(timestamp) + timezone,\n",
    "        \"temperature\": temperature * 9/5 + 32,\n",
    "        \"humidity\": humidity\n",
    "    })\n",
    "\n",
    "weather_df = pd.DataFrame(weather_data).sort_values(by=\"timestamp\")\n",
    "print(\"\\nWeather Climate Data\")\n",
    "display(weather_df)"
   ]
  },
  {
   "cell_type": "code",
   "execution_count": null,
   "id": "8c5aa9c3-7a10-4604-81c2-f706d3012f88",
   "metadata": {},
   "outputs": [],
   "source": [
    "from plotly import graph_objects as go\n",
    "\n",
    "figs = {}\n",
    "\n",
    "def create_fig(fig_name, units):\n",
    "    figs[fig_name] = go.Figure()\n",
    "    figs[fig_name].update_layout(title=fig_name, xaxis_title=\"Time\", yaxis_title=f\"{fig_name} {units}\", height=600)\n",
    "\n",
    "create_fig(\"Temperature\", \"\\N{DEGREE SIGN}F\")\n",
    "create_fig(\"Humidity\", \"(%)\")\n",
    "\n",
    "def create_trace(room, x, y):\n",
    "    room_name = (room if room == \"Weather\" else f\"{room} Bedroom\" if room == \"Master\" else f\"{room}'s Room\")\n",
    "    return go.Scatter(x=x, y=y, mode=\"lines+markers\", text=room_name, name=room_name, line_shape=\"spline\")\n",
    "\n",
    "for room, room_data in df.groupby(by=\"rm\"):\n",
    "    figs[\"Temperature\"].add_trace(create_trace(room, room_data.datetime, room_data.te_F))\n",
    "    figs[\"Humidity\"].add_trace(create_trace(room, room_data.datetime, room_data.hu))\n",
    "figs[\"Temperature\"].add_trace(create_trace(\"Weather\", weather_df.timestamp, weather_df.temperature))\n",
    "figs[\"Humidity\"].add_trace(create_trace(\"Weather\", weather_df.timestamp, weather_df.humidity))\n",
    "\n",
    "for fig in figs:\n",
    "    figs[fig].show()"
   ]
  }
 ],
 "metadata": {
  "kernelspec": {
   "display_name": "Python 3 (ipykernel)",
   "language": "python",
   "name": "python3"
  },
  "language_info": {
   "codemirror_mode": {
    "name": "ipython",
    "version": 3
   },
   "file_extension": ".py",
   "mimetype": "text/x-python",
   "name": "python",
   "nbconvert_exporter": "python",
   "pygments_lexer": "ipython3",
   "version": "3.9.7"
  }
 },
 "nbformat": 4,
 "nbformat_minor": 5
}
